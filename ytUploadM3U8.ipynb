{
  "cells": [
    {
      "cell_type": "markdown",
      "metadata": {
        "id": "view-in-github",
        "colab_type": "text"
      },
      "source": [
        "<a href=\"https://colab.research.google.com/github/AkashDeep000/pwdow/blob/master/ytUploadM3U8.ipynb\" target=\"_parent\"><img src=\"https://colab.research.google.com/assets/colab-badge.svg\" alt=\"Open In Colab\"/></a>"
      ]
    },
    {
      "cell_type": "markdown",
      "source": [
        "# Upload Any m3u8 url video directly to YouTube"
      ],
      "metadata": {
        "id": "kkJShBQGvo2D"
      }
    },
    {
      "cell_type": "markdown",
      "metadata": {
        "id": "JQa2S43ADu3l"
      },
      "source": [
        "Install all dependency 👇"
      ]
    },
    {
      "cell_type": "code",
      "execution_count": null,
      "metadata": {
        "id": "spD4hV6B-2tI"
      },
      "outputs": [],
      "source": [
        "!git clone https://github.com/AkashDeep000/pwdow\n",
        "!cd pwdow && npm i\n",
        "!apt-get update\n",
        "!apt install chromium-chromedriver\n",
        "!cp /usr/lib/chromium-browser/chromedriver /usr/bin\n",
        "import sys\n",
        "sys.path.insert(0,'/usr/lib/chromium-browser/chromedriver')"
      ]
    },
    {
      "cell_type": "markdown",
      "metadata": {
        "id": "eZeTNRofEKI4"
      },
      "source": [
        "Run YouTube upload 👇"
      ]
    },
    {
      "cell_type": "code",
      "execution_count": null,
      "metadata": {
        "id": "riTR6tMUGBLS",
        "cellView": "form"
      },
      "outputs": [],
      "source": [
        " downloadUrl = \"http://sample.vodobox.net/skate_phantom_flex_4k/high/skate_phantom_flex_4k_788_360p.m3u8\" #@param {type:\"string\"}\n",
        "thumbnailUrl = \"https://d2bps9p1kiy4ka.cloudfront.net/5eb393ee95fab7468a79d189/52855e5c-27c7-4912-8486-8bc80247bbfb.png\" #@param {type:\"string\"}\n",
        "videoTitle = \"chapter 1\" #@param {type:\"string\"}\n",
        "playlistName = \"physics\" #@param {type:\"string\"}\n",
        "\n",
        "import subprocess\n",
        "process = subprocess.Popen('cd pwdow' + '&& node ytup.js \"' + downloadUrl + '\" \"' + videoTitle + '\" \"' + playlistName + '\" \"' + thumbnailUrl + '\"', shell=True, stdout=subprocess.PIPE, stderr=subprocess.PIPE)\n",
        "\n",
        "while True:\n",
        "    line = process.stdout.readline()\n",
        "    if not line:\n",
        "        break\n",
        "    print(line.rstrip())"
      ]
    }
  ],
  "metadata": {
    "colab": {
      "collapsed_sections": [],
      "name": "Untitled0.ipynb",
      "provenance": [],
      "authorship_tag": "ABX9TyPHTJtzR1Xlqf0eM3y71wOx",
      "include_colab_link": true
    },
    "kernelspec": {
      "display_name": "Python 3",
      "name": "python3"
    },
    "language_info": {
      "name": "python"
    }
  },
  "nbformat": 4,
  "nbformat_minor": 0
}